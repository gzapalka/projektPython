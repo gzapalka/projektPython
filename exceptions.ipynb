{
 "cells": [
  {
   "cell_type": "code",
   "execution_count": null,
   "metadata": {},
   "outputs": [],
   "source": [
    "import tkinter as tk"
   ]
  },
  {
   "cell_type": "code",
   "execution_count": 1,
   "metadata": {},
   "outputs": [],
   "source": [
    "def popup_window(window, message):\n",
    "    window = tk.Toplevel()\n",
    "    label = tk.Label(window, text=message)\n",
    "    label.pack(fill='x', padx=50, pady=5)\n",
    "\n",
    "    button_close = tk.Button(window, text=\"Close\", command=window.destroy)\n",
    "    button_close.pack(fill='x')"
   ]
  },
  {
   "cell_type": "code",
   "execution_count": 2,
   "metadata": {},
   "outputs": [],
   "source": [
    "class InvalidArgument(Exception):\n",
    "    \"\"\"Ilość monet musi być dodatnia i całkowita\"\"\"\n",
    "    def __init__(self,window):\n",
    "        self.mess = \"Ilość monet musi być dodatnia i całkowita\"\n",
    "        popup_window(window, self.mess)\n",
    "        self.tm.clearList()\n",
    "#         super().__init__(self.mess)\n",
    "        "
   ]
  },
  {
   "cell_type": "code",
   "execution_count": null,
   "metadata": {},
   "outputs": [],
   "source": [
    "class CannotChange(Exception):\n",
    "    \"\"\"Nie można wydać reszty\"\"\"\n",
    "    def __init__(self,window):\n",
    "        self.mess = \"Nie można wydać reszty. Tylko odliczona kwota\"\n",
    "        popup_window(window, self.mess)\n",
    "#         super().__init__(self.mess)"
   ]
  },
  {
   "cell_type": "code",
   "execution_count": null,
   "metadata": {},
   "outputs": [],
   "source": [
    "class NotEnoughMoney(Exception):\n",
    "    \"\"\"Nie wystarczająca ilość pieniędzy\"\"\"\n",
    "    def __init__(self,window):\n",
    "        self.mess = \"Nie wystarczająca ilość pieniędzy\"\n",
    "        popup_window(window, self.mess)\n",
    "#         super().__init__(self.mess)"
   ]
  },
  {
   "cell_type": "code",
   "execution_count": null,
   "metadata": {},
   "outputs": [],
   "source": [
    "class NoChangeNeeded(Exception):\n",
    "    \"\"\"Informacja o braku reszty do wypłacenia\"\"\"\n",
    "    def __init__(self,window):\n",
    "        self.mess = \"Brak reszty. Dziękujemy za zakupy\"\n",
    "        popup_window(window, self.mess)"
   ]
  }
 ],
 "metadata": {
  "kernelspec": {
   "display_name": "Python 3",
   "language": "python",
   "name": "python3"
  },
  "language_info": {
   "codemirror_mode": {
    "name": "ipython",
    "version": 3
   },
   "file_extension": ".py",
   "mimetype": "text/x-python",
   "name": "python",
   "nbconvert_exporter": "python",
   "pygments_lexer": "ipython3",
   "version": "3.8.5"
  }
 },
 "nbformat": 4,
 "nbformat_minor": 4
}
