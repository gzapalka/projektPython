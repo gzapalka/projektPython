{
 "cells": [
  {
   "cell_type": "code",
   "execution_count": 2,
   "metadata": {},
   "outputs": [
    {
     "name": "stderr",
     "output_type": "stream",
     "text": [
      "E\n",
      "======================================================================\n",
      "ERROR: C:\\Users\\Gabriela\\AppData\\Roaming\\jupyter\\runtime\\kernel-5e9ccb94-78de-4974-aefa-0d6e6c0dd29f (unittest.loader._FailedTest)\n",
      "----------------------------------------------------------------------\n",
      "AttributeError: module '__main__' has no attribute 'C:\\Users\\Gabriela\\AppData\\Roaming\\jupyter\\runtime\\kernel-5e9ccb94-78de-4974-aefa-0d6e6c0dd29f'\n",
      "\n",
      "----------------------------------------------------------------------\n",
      "Ran 1 test in 0.001s\n",
      "\n",
      "FAILED (errors=1)\n"
     ]
    },
    {
     "ename": "SystemExit",
     "evalue": "True",
     "output_type": "error",
     "traceback": [
      "An exception has occurred, use %tb to see the full traceback.\n",
      "\u001b[1;31mSystemExit\u001b[0m\u001b[1;31m:\u001b[0m True\n"
     ]
    },
    {
     "name": "stderr",
     "output_type": "stream",
     "text": [
      "C:\\Users\\Gabriela\\anaconda3\\lib\\site-packages\\IPython\\core\\interactiveshell.py:3426: UserWarning: To exit: use 'exit', 'quit', or Ctrl-D.\n",
      "  warn(\"To exit: use 'exit', 'quit', or Ctrl-D.\", stacklevel=1)\n"
     ]
    }
   ],
   "source": [
    "import unittest\n",
    "import handler\n",
    "import exceptions\n",
    "import app\n",
    "import numpy as np\n",
    "import coin as c\n",
    "from decimal import *\n",
    "\n",
    "class Test_Handler(unittest.TestCase):\n",
    "    def setUp(self):\n",
    "        self.app = handler.Handler()\n",
    "        \n",
    "#     def test_shouldRaiseNoChangeNeeded_whenPaidActualAmount(self) -> None:\n",
    "#         self.app.credit = 5\n",
    "#         self.assertRaises(exceptions.NoChangeNeeded, self.app.manage_change, [\"0\",\"0\",\"0\",\"1\",\"0\",\"0\",\"0\",\"0\",\"0\",\"0\",\"0\",\"0\"], app.App())\n",
    "        \n",
    "    def test_shouldGiveCorrectChange_WhenPossible(self) -> None:\n",
    "        self.app.credit = 5\n",
    "        result = self.app.manage_change([\"0\",\"0\",\"0\",\"1\",\"1\",\"0\",\"0\",\"0\",\"0\",\"0\",\"0\",\"0\"])\n",
    "        expected = np.array([c.Coin(Decimal(2).quantize(Decimal('0.00')))])\n",
    "\n",
    "        np.testing.assert_array_equal(result, expected)\n",
    "        \n",
    "    def test_shouldNotGiveChange_whenCreditEqualPayment(self) -> None:\n",
    "        self.app.credit = 5\n",
    "        result = self.app.manage_change([\"0\",\"0\",\"0\",\"1\",\"0\",\"0\",\"0\",\"0\",\"0\",\"0\",\"0\",\"0\"])\n",
    "        expected = np.array([])\n",
    "\n",
    "        np.testing.assert_array_equal(result, expected)\n",
    "        \n",
    "    def test_shouldReturnAddedCoin_whenCannotChange(self) -> None:\n",
    "        self.app.credit = 6\n",
    "        result = self.app.manage_change([\"0\",\"0\",\"0\",\"1\",\"1\",\"0\",\"0\",\"0\",\"0\",\"1\",\"1\",\"0\"])\n",
    "        expected = np.array([c.Coin(Decimal(5).quantize(Decimal('0.00'))),c.Coin(Decimal(2).quantize(Decimal('0.00'))),c.Coin(Decimal(0.05).quantize(Decimal('0.00'))),c.Coin(Decimal(0.02).quantize(Decimal('0.00')))])\n",
    "        \n",
    "        np.testing.assert_array_equal(result[1], expected)\n",
    "        \n",
    "    def test_shouldCalculateAmountToPay_Correctly(self)->None:\n",
    "        self.app.credit = 1\n",
    "        result = self.app.manage_change([\"0\",\"0\",\"0\",\"0\",\"0\",\"0\",\"0\",\"0\",\"0\",\"0\",\"0\",\"100\"])\n",
    "        expected = np.array([])\n",
    "\n",
    "        np.testing.assert_array_equal(result, expected)\n",
    "        \n",
    "        \n",
    "    def test_shouldCalculateCreditCorrectly(self)->None:\n",
    "        fun1 = self.app.create_add_ticket(3, \"reduced-\")\n",
    "        fun2 = self.app.create_add_ticket(5, \"normal-\")\n",
    "        fun1()\n",
    "        fun2()\n",
    "        self.assertEqual(self.app.get_credit, 8)\n",
    "        \n",
    "    def test_coinsShouldNotDisappearAfterAddTicket(self) -> None:\n",
    "        fun1 = self.app.create_add_ticket(3, \"reduced-\")\n",
    "        fun1()\n",
    "        self.app.insert_coins([\"0\",\"0\",\"0\",\"0\",\"1\",\"1\",\"0\",\"0\",\"0\",\"0\",\"0\",\"0\"])\n",
    "        fun1()\n",
    "        result = self.app.manage_change([\"0\",\"0\",\"0\",\"0\",\"1\",\"1\",\"0\",\"0\",\"0\",\"0\",\"0\",\"0\"])\n",
    "        expected = np.array([])\n",
    "\n",
    "        np.testing.assert_array_equal(result, expected)\n",
    "        \n",
    "    def test_shouldRaiseInvalidArgument_whenCoinAmountFloatOrNegative(self) -> None:\n",
    " \n",
    "        self.assertRaises(exceptions.InvalidArgument, self.app.insert_coins, [\"0\",\"0\",\"0\",\"0\",\"0\",\"-1\",\"0\",\"0\",\"0\",\"0\",\"0\",\"0\"])\n",
    "        self.assertRaises(exceptions.InvalidArgument, self.app.insert_coins, [\"0\",\"0\",\"0\",\"0\",\"0\",\"1.1\",\"0\",\"0\",\"0\",\"0\",\"0\",\"0\"])\n",
    "        \n",
    "if __name__ == '__main__':\n",
    "    unittest.main()\n",
    "else:\n",
    "    print(\"Test_Handler imported succesfully\")\n"
   ]
  },
  {
   "cell_type": "code",
   "execution_count": null,
   "metadata": {},
   "outputs": [],
   "source": []
  }
 ],
 "metadata": {
  "kernelspec": {
   "display_name": "Python 3",
   "language": "python",
   "name": "python3"
  },
  "language_info": {
   "codemirror_mode": {
    "name": "ipython",
    "version": 3
   },
   "file_extension": ".py",
   "mimetype": "text/x-python",
   "name": "python",
   "nbconvert_exporter": "python",
   "pygments_lexer": "ipython3",
   "version": "3.8.5"
  }
 },
 "nbformat": 4,
 "nbformat_minor": 4
}
