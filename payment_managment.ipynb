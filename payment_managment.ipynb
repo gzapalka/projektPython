{
 "cells": [
  {
   "cell_type": "code",
   "execution_count": 1,
   "metadata": {},
   "outputs": [
    {
     "name": "stdout",
     "output_type": "stream",
     "text": [
      "Coin imported succenfully\n"
     ]
    }
   ],
   "source": [
    "import coin as c\n",
    "import numpy as np\n",
    "from decimal import *\n",
    "\n",
    "class Payment_Management:\n",
    "    \n",
    "    def __init__(self):\n",
    "        self.expectedValue=[0.01,0.02, 0.05, 0.1,0.2,0.5,1,2,5,10,20,50]\n",
    "        self.lista=np.array([])\n",
    "        self.credit =0\n",
    "        self.payment = 0\n",
    "        \n",
    "    def addCoin(self, value):\n",
    "        coin = c.Coin(value)\n",
    "        self.lista=np.append(self.lista,coin)\n",
    "        \n",
    "            \n",
    "    def get_sum(self):\n",
    "        suma = 0\n",
    "        for moneta in self.lista:\n",
    "            suma+=moneta.get_value\n",
    "        return suma\n",
    "    \n",
    "    def return_coin(self, nominal):\n",
    "        if nominal in self.lista:\n",
    "            self.lista = np.delete(self.lista, np.argwhere(self.lista == nominal)[0])\n",
    "    \n",
    "    def change(self, amount):\n",
    "        amount = Decimal(round(amount,2))\n",
    "        self.lista=np.sort(self.lista)[::-1]\n",
    "        temp = 0\n",
    "        temp_list = []\n",
    "        i=0\n",
    "        while amount > temp and i < len(self.lista):\n",
    "            if temp + self.lista[i].get_value <= amount:\n",
    "                temp_list.append(self.lista[i])\n",
    "                temp = temp+ self.lista[i].get_value\n",
    "            i=i+1\n",
    "        if temp != amount:\n",
    "            return False\n",
    "        for coin in temp_list:\n",
    "            self.return_coin(coin)\n",
    "        return temp_list\n",
    "    \n",
    "    def clearList(self):\n",
    "        self.lista=np.array([])\n",
    "        \n",
    "if __name__ == '__main__':\n",
    "    pass\n",
    "else:\n",
    "    #Nie - plik został zaimportowany jako moduł\n",
    "    print('Management Payment imported succesfully')"
   ]
  },
  {
   "cell_type": "code",
   "execution_count": null,
   "metadata": {},
   "outputs": [],
   "source": []
  }
 ],
 "metadata": {
  "kernelspec": {
   "display_name": "Python 3",
   "language": "python",
   "name": "python3"
  },
  "language_info": {
   "codemirror_mode": {
    "name": "ipython",
    "version": 3
   },
   "file_extension": ".py",
   "mimetype": "text/x-python",
   "name": "python",
   "nbconvert_exporter": "python",
   "pygments_lexer": "ipython3",
   "version": "3.8.5"
  }
 },
 "nbformat": 4,
 "nbformat_minor": 4
}
