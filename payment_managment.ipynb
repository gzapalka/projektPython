{
 "cells": [
  {
   "cell_type": "code",
   "execution_count": 6,
   "metadata": {},
   "outputs": [],
   "source": [
    "from  coin import *\n",
    "import numpy as np\n",
    "from decimal import *\n",
    "\n",
    "class Payment_Management:\n",
    "    \"\"\"Klasa obsługująca logikę zarządzania pieniędzmi\"\"\"\n",
    "    \n",
    "    def __init__(self) -> None:\n",
    "        \"\"\"Zwraca obiekt typu Payment_Management\"\"\"\n",
    "        self.expectedValue=[0.01,0.02, 0.05, 0.1,0.2,0.5,1,2,5,10,20,50]\n",
    "        self.lista=np.array([])\n",
    "        self.credit =0\n",
    "        self.payment = 0\n",
    "        \n",
    "    def add_coin(self, value: float) -> None:\n",
    "        \"\"\"Dodaje monetę do schowka\"\"\"\n",
    "        self.lista=np.append(self.lista,Coin(value))\n",
    "            \n",
    "    def get_sum(self) -> Decimal:\n",
    "        \"\"\"Zwraca łączną wartość znajdujących się w automacie monet\"\"\"\n",
    "        return np.sum([coin.get_value for coin in self.lista])\n",
    "    \n",
    "    def return_coin(self, coin: Coin) -> None or bool:\n",
    "        \"\"\"Usuwa monetę z listy jeżeli się na niej znajduje\"\"\"\n",
    "        if coin in self.lista:\n",
    "            self.lista = np.delete(self.lista, np.argwhere(self.lista == coin)[0])\n",
    "        else:\n",
    "                return False\n",
    "            \n",
    "    def change(self, amount: float) -> np.array or bool:\n",
    "        \"\"\"Wydaje resztę jeżeli to możliwe\"\"\"\n",
    "        amount = Decimal(round(amount,2))\n",
    "        self.lista=np.sort(self.lista)[::-1]\n",
    "        temp = 0\n",
    "        temp_list = np.array([])\n",
    "        i=0\n",
    "        while amount > temp and i < len(self.lista):\n",
    "            if temp + self.lista[i].get_value <= amount:\n",
    "                temp_list = np.append(temp_list, self.lista[i])\n",
    "                temp = temp+ self.lista[i].get_value\n",
    "            i=i+1\n",
    "            \n",
    "        if temp != amount:\n",
    "            return False\n",
    "        \n",
    "        for coin in temp_list:\n",
    "            self.return_coin(coin)\n",
    "        return temp_list\n",
    "    \n",
    "    def clearList(self) -> None:\n",
    "        \"\"\"Usuwa przechowywane monety\"\"\"\n",
    "        self.lista=np.array([])\n",
    "        \n",
    "if __name__ == '__main__':\n",
    "    pass\n",
    "else:\n",
    "    print('Management Payment imported succesfully')"
   ]
  },
  {
   "cell_type": "code",
   "execution_count": null,
   "metadata": {},
   "outputs": [],
   "source": []
  }
 ],
 "metadata": {
  "kernelspec": {
   "display_name": "Python 3",
   "language": "python",
   "name": "python3"
  },
  "language_info": {
   "codemirror_mode": {
    "name": "ipython",
    "version": 3
   },
   "file_extension": ".py",
   "mimetype": "text/x-python",
   "name": "python",
   "nbconvert_exporter": "python",
   "pygments_lexer": "ipython3",
   "version": "3.8.5"
  }
 },
 "nbformat": 4,
 "nbformat_minor": 4
}
