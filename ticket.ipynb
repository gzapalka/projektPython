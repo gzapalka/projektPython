{
 "cells": [
  {
   "cell_type": "code",
   "execution_count": 2,
   "metadata": {},
   "outputs": [],
   "source": [
    "from decimal import *\n",
    "\n",
    "class Ticket:\n",
    "    \"\"\"Klasa reprezentująca bilety\"\"\"\n",
    "    def __init__(self,price: float):\n",
    "        \"\"\"Tworzy obiekt typu Ticket\"\"\"\n",
    "        self._price = Decimal(str(price))\n",
    "    \n",
    "    @property\n",
    "    def get_price(self) -> Decimal:\n",
    "        \"\"\"Zwraca wartość biletu\"\"\"\n",
    "        return self._price"
   ]
  }
 ],
 "metadata": {
  "kernelspec": {
   "display_name": "Python 3",
   "language": "python",
   "name": "python3"
  },
  "language_info": {
   "codemirror_mode": {
    "name": "ipython",
    "version": 3
   },
   "file_extension": ".py",
   "mimetype": "text/x-python",
   "name": "python",
   "nbconvert_exporter": "python",
   "pygments_lexer": "ipython3",
   "version": "3.8.5"
  }
 },
 "nbformat": 4,
 "nbformat_minor": 4
}
