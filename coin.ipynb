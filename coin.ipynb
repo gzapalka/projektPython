{
 "cells": [
  {
   "cell_type": "code",
   "execution_count": 1,
   "metadata": {},
   "outputs": [],
   "source": [
    "from decimal import *\n",
    "import unittest\n",
    "\n",
    "class Coin:\n",
    "    \"\"\"Klasa rezprezentująca monety\"\"\"\n",
    "    def __init__(self, value: float):\n",
    "        \"\"\"Tworzy nowy obiekt typu Coin\"\"\"\n",
    "        self._value = Decimal(round(value, 2))\n",
    "        \n",
    "    @property\n",
    "    def get_value(self) -> Decimal:\n",
    "        \"\"\"Zwraca wartość monety\"\"\"\n",
    "        return self._value\n",
    "    \n",
    "    def __lt__(self, other):\n",
    "        \"\"\"Umożliwia porównywanie dwóch obiektów typu Coin\"\"\"\n",
    "        if self.get_value < other.get_value:\n",
    "            return True\n",
    "        return False\n",
    "    \n",
    "\n",
    "class TestCoin(unittest.TestCase):\n",
    "    def test_returnValue(self) -> None:\n",
    "        c = Coin(5)\n",
    "        print(c.get_value!=5)\n",
    "        self.assertFalse(c.get_value!=5)\n",
    "    \n",
    "if __name__ == '__main__':\n",
    "    unittest.main()\n",
    "else:\n",
    "    print('Coin imported succenfully')"
   ]
  }
 ],
 "metadata": {
  "kernelspec": {
   "display_name": "Python 3",
   "language": "python",
   "name": "python3"
  },
  "language_info": {
   "codemirror_mode": {
    "name": "ipython",
    "version": 3
   },
   "file_extension": ".py",
   "mimetype": "text/x-python",
   "name": "python",
   "nbconvert_exporter": "python",
   "pygments_lexer": "ipython3",
   "version": "3.8.5"
  }
 },
 "nbformat": 4,
 "nbformat_minor": 4
}
