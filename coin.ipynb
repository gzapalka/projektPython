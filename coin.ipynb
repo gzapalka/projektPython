{
 "cells": [
  {
   "cell_type": "code",
   "execution_count": 1,
   "metadata": {},
   "outputs": [],
   "source": [
    "class Coin:\n",
    "\n",
    "    def __init__(self, value, currency):\n",
    "        if value in {0.01,0.02, 0.05, 0.1,0.2,0.5,1,2,5,10,20,50}:\n",
    "            self._value = value\n",
    "        else:\n",
    "            self._value = 0\n",
    "        if currency in {'PLN', 'EUR', 'GP'}:\n",
    "            self._currency = currency\n",
    "        else:\n",
    "            self._currency = 'PLN'\n",
    "    \n",
    "    def get_value(self):\n",
    "        return self._value\n",
    "    \n",
    "    def get_currency(self):\n",
    "        return self._currency\n",
    "    \n",
    "    def __lt__(self, other):\n",
    "        if self.get_value() < other.get_value():\n",
    "            return True\n",
    "        return False\n",
    "    \n",
    "    def __add__(self, other):\n",
    "        return self.get_value() + other.get_value()\n",
    "    \n",
    "    def __add__(self, decimal):\n",
    "        return self.get_value() + decimal\n",
    "    \n",
    "    def __int__(self):\n",
    "        return self.get_value()\n",
    "    \n",
    "    def __str__(self):\n",
    "        return \"{}, {}\".format(self._value, self._currency)\n",
    "    def __repr__(self):\n",
    "        return \"{}, {}\".format(self._value, self._currency)\n",
    "    \n",
    "if __name__ == '__main__':\n",
    "    pass\n",
    "else:\n",
    "    print('Coin imported succenfully')"
   ]
  },
  {
   "cell_type": "code",
   "execution_count": null,
   "metadata": {},
   "outputs": [],
   "source": []
  }
 ],
 "metadata": {
  "kernelspec": {
   "display_name": "Python 3",
   "language": "python",
   "name": "python3"
  },
  "language_info": {
   "codemirror_mode": {
    "name": "ipython",
    "version": 3
   },
   "file_extension": ".py",
   "mimetype": "text/x-python",
   "name": "python",
   "nbconvert_exporter": "python",
   "pygments_lexer": "ipython3",
   "version": "3.8.5"
  }
 },
 "nbformat": 4,
 "nbformat_minor": 4
}
