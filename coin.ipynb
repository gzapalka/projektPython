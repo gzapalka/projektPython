{
 "cells": [
  {
   "cell_type": "code",
   "execution_count": 1,
   "metadata": {},
   "outputs": [
    {
     "name": "stderr",
     "output_type": "stream",
     "text": [
      "E\n",
      "======================================================================\n",
      "ERROR: C:\\Users\\Gabriela\\AppData\\Roaming\\jupyter\\runtime\\kernel-fc1d1dc3-45a5-4b0b-8f1b-5d24c09a6fb6 (unittest.loader._FailedTest)\n",
      "----------------------------------------------------------------------\n",
      "AttributeError: module '__main__' has no attribute 'C:\\Users\\Gabriela\\AppData\\Roaming\\jupyter\\runtime\\kernel-fc1d1dc3-45a5-4b0b-8f1b-5d24c09a6fb6'\n",
      "\n",
      "----------------------------------------------------------------------\n",
      "Ran 1 test in 0.003s\n",
      "\n",
      "FAILED (errors=1)\n"
     ]
    },
    {
     "ename": "SystemExit",
     "evalue": "True",
     "output_type": "error",
     "traceback": [
      "An exception has occurred, use %tb to see the full traceback.\n",
      "\u001b[1;31mSystemExit\u001b[0m\u001b[1;31m:\u001b[0m True\n"
     ]
    },
    {
     "name": "stderr",
     "output_type": "stream",
     "text": [
      "C:\\Users\\Gabriela\\anaconda3\\lib\\site-packages\\IPython\\core\\interactiveshell.py:3426: UserWarning: To exit: use 'exit', 'quit', or Ctrl-D.\n",
      "  warn(\"To exit: use 'exit', 'quit', or Ctrl-D.\", stacklevel=1)\n"
     ]
    }
   ],
   "source": [
    "from decimal import *\n",
    "import unittest\n",
    "\n",
    "class Coin:\n",
    "    \"\"\"Klasa rezprezentująca monety\"\"\"\n",
    "    def __init__(self, value: float):\n",
    "        \"\"\"Tworzy nowy obiekt typu Coin\"\"\"\n",
    "        self._value = Decimal(round(value, 2))\n",
    "        \n",
    "    @property\n",
    "    def get_value(self) -> Decimal:\n",
    "        \"\"\"Zwraca wartość monety\"\"\"\n",
    "        return self._value\n",
    "    \n",
    "    def __lt__(self, other):\n",
    "        \"\"\"Umożliwia porównywanie dwóch obiektów typu Coin\"\"\"\n",
    "        if self.get_value < other.get_value:\n",
    "            return True\n",
    "        return False\n",
    "    \n",
    "    def __str__(self):\n",
    "        return (str)(self.get_value)\n",
    "    \n",
    "    def __repr__(self):\n",
    "        return (str)(self.get_value)\n",
    "    \n",
    "\n",
    "class TestCoin(unittest.TestCase):\n",
    "    def test_returnValue(self) -> None:\n",
    "        c = Coin(5)\n",
    "        print(c.get_value!=5)\n",
    "        self.assertFalse(c.get_value!=5)\n",
    "    \n",
    "if __name__ == '__main__':\n",
    "    unittest.main()\n",
    "else:\n",
    "    print('Coin imported succenfully')"
   ]
  },
  {
   "cell_type": "code",
   "execution_count": null,
   "metadata": {},
   "outputs": [],
   "source": []
  }
 ],
 "metadata": {
  "kernelspec": {
   "display_name": "Python 3",
   "language": "python",
   "name": "python3"
  },
  "language_info": {
   "codemirror_mode": {
    "name": "ipython",
    "version": 3
   },
   "file_extension": ".py",
   "mimetype": "text/x-python",
   "name": "python",
   "nbconvert_exporter": "python",
   "pygments_lexer": "ipython3",
   "version": "3.8.5"
  }
 },
 "nbformat": 4,
 "nbformat_minor": 4
}
