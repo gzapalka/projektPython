{
 "cells": [
  {
   "cell_type": "code",
   "execution_count": 1,
   "metadata": {},
   "outputs": [
    {
     "name": "stdout",
     "output_type": "stream",
     "text": [
      "Coin imported succesfully\n",
      "Management Payment imported succesfully\n",
      "GUI imported succesfully\n"
     ]
    }
   ],
   "source": [
    "import coin as c\n",
    "import numpy as np\n",
    "import payment_managment as pm\n",
    "from decimal import *\n",
    "from ticket import *\n",
    "import exceptions\n",
    "import gui"
   ]
  },
  {
   "cell_type": "code",
   "execution_count": 2,
   "metadata": {},
   "outputs": [],
   "source": [
    "class Ticket_Machine(pm.Payment_Management):\n",
    "    \"\"\"Klasa obsługująca logikę działania automatu biletowego\"\"\"\n",
    "    def __init__(self):\n",
    "        super().__init__()\n",
    "        gui.GUI(self)\n",
    "        \n",
    "    def create_add_ticket(self, value: float):\n",
    "        \"\"\"Zwraca funckję naliczającą opłatę za konkretny bilet\"\"\"\n",
    "        ticket = Ticket(value)\n",
    "        def add_ticket() -> None:\n",
    "            \"\"\"Nalicza opłatę za bilet\"\"\"\n",
    "            self.credit += ticket.get_price\n",
    "        return add_ticket\n",
    "    \n",
    "    def resign(self) -> None:\n",
    "        \"\"\"Funckja resetująca\"\"\"\n",
    "        self.lista=np.array([])\n",
    "        self.credit = 0\n",
    "        self.payment = 0\n",
    "        self.gui.update_credit_status()\n",
    "        self.gui.display_paymnet_layout = False\n",
    "        \n",
    "    def addCoinsToPM(self):\n",
    "        for i in range(len(self.gui.e)):\n",
    "            for j in range((int)((self.gui.e[i]).get())):\n",
    "                (\"Wrzucam monetę: \", self.expectedValue[i])\n",
    "                self.add_coin(self.expectedValue[i])\n",
    "                \n",
    "    def checkData(self):\n",
    "        for e in self.gui.readDataFromEntries():\n",
    "            if not e.isnumeric():\n",
    "                return False\n",
    "        return True\n",
    "        \n",
    "    def manageChange(self):\n",
    "        if self.checkData():\n",
    "            self.addCoinsToPM()\n",
    "                    \n",
    "            if self.get_amount_to_pay < 0:\n",
    "                self.resign()\n",
    "                raise exceptions.NotEnoughMoney(self.gui.window)\n",
    "                return\n",
    "            \n",
    "            if self.get_amount_to_pay == 0:\n",
    "                self.resign()\n",
    "                raise exceptions.NoChangeNeeded(self.gui.window)\n",
    "                return\n",
    "                \n",
    "            result = self.change(self.get_amount_to_pay)\n",
    "            \n",
    "            if type(result) == type(False):\n",
    "                raise exceptions.CannotChange(self.gui.window)\n",
    "            else:\n",
    "                print(result)\n",
    "                self.resign()\n",
    "                return\n",
    "        else:\n",
    "            self.resign()\n",
    "            raise exceptions.InvalidArgument(self.gui.window)\n",
    "            \n",
    "        \n",
    "        \n",
    "        \n"
   ]
  },
  {
   "cell_type": "code",
   "execution_count": null,
   "metadata": {},
   "outputs": [
    {
     "name": "stdout",
     "output_type": "stream",
     "text": [
      "Zpałacono:  0\n",
      "Do Zapłaty:  4\n"
     ]
    },
    {
     "name": "stderr",
     "output_type": "stream",
     "text": [
      "Exception in Tkinter callback\n",
      "Traceback (most recent call last):\n",
      "  File \"C:\\Users\\Gabriela\\anaconda3\\lib\\tkinter\\__init__.py\", line 1883, in __call__\n",
      "    return self.func(*args)\n",
      "  File \"<ipython-input-2-6ac02f3d93ce>\", line 41, in manageChange\n",
      "    raise exceptions.NotEnoughMoney(self.gui.window)\n",
      "exceptions.NotEnoughMoney: .\n"
     ]
    },
    {
     "name": "stdout",
     "output_type": "stream",
     "text": [
      "Zpałacono:  4.00\n",
      "Do Zapłaty:  4\n",
      "Zpałacono:  4.00\n",
      "Do Zapłaty:  4\n"
     ]
    },
    {
     "name": "stderr",
     "output_type": "stream",
     "text": [
      "Exception in Tkinter callback\n",
      "Traceback (most recent call last):\n",
      "  File \"C:\\Users\\Gabriela\\anaconda3\\lib\\tkinter\\__init__.py\", line 1883, in __call__\n",
      "    return self.func(*args)\n",
      "  File \"<ipython-input-2-6ac02f3d93ce>\", line 46, in manageChange\n",
      "    raise exceptions.NoChangeNeeded(self.gui.window)\n",
      "exceptions.NoChangeNeeded: .\n"
     ]
    }
   ],
   "source": [
    "app = Ticket_Machine()"
   ]
  },
  {
   "cell_type": "code",
   "execution_count": null,
   "metadata": {},
   "outputs": [],
   "source": []
  }
 ],
 "metadata": {
  "kernelspec": {
   "display_name": "Python 3",
   "language": "python",
   "name": "python3"
  },
  "language_info": {
   "codemirror_mode": {
    "name": "ipython",
    "version": 3
   },
   "file_extension": ".py",
   "mimetype": "text/x-python",
   "name": "python",
   "nbconvert_exporter": "python",
   "pygments_lexer": "ipython3",
   "version": "3.8.5"
  }
 },
 "nbformat": 4,
 "nbformat_minor": 4
}
